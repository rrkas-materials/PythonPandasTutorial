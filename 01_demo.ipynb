{
 "cells": [
  {
   "cell_type": "code",
   "execution_count": null,
   "id": "578385e4",
   "metadata": {},
   "outputs": [],
   "source": [
    "import pandas as pd"
   ]
  },
  {
   "cell_type": "code",
   "execution_count": null,
   "id": "9788316c",
   "metadata": {},
   "outputs": [],
   "source": [
    "df = pd.read_csv('data/survey_results_public.csv')"
   ]
  },
  {
   "cell_type": "code",
   "execution_count": null,
   "id": "006d9ac2",
   "metadata": {},
   "outputs": [],
   "source": [
    "df"
   ]
  },
  {
   "cell_type": "code",
   "execution_count": null,
   "id": "7019c282",
   "metadata": {},
   "outputs": [],
   "source": [
    "df.shape"
   ]
  },
  {
   "cell_type": "code",
   "execution_count": null,
   "id": "d687b8ee",
   "metadata": {},
   "outputs": [],
   "source": [
    "df.info()"
   ]
  },
  {
   "cell_type": "code",
   "execution_count": null,
   "id": "f89fc4a2",
   "metadata": {},
   "outputs": [],
   "source": [
    "pd.set_option('display.max_columns', 85)"
   ]
  },
  {
   "cell_type": "code",
   "execution_count": null,
   "id": "5dcc3a18",
   "metadata": {},
   "outputs": [],
   "source": [
    "schema_df = pd.read_csv('data/survey_results_schema.csv')"
   ]
  },
  {
   "cell_type": "code",
   "execution_count": null,
   "id": "d891009b",
   "metadata": {},
   "outputs": [],
   "source": [
    "schema_df"
   ]
  },
  {
   "cell_type": "code",
   "execution_count": null,
   "id": "a15726b6",
   "metadata": {},
   "outputs": [],
   "source": [
    "pd.set_option('display.max_rows', 85)"
   ]
  },
  {
   "cell_type": "code",
   "execution_count": null,
   "id": "d0653512",
   "metadata": {},
   "outputs": [],
   "source": [
    "df.head()"
   ]
  },
  {
   "cell_type": "code",
   "execution_count": null,
   "id": "77b4a0fc",
   "metadata": {},
   "outputs": [],
   "source": [
    "df.head(10)"
   ]
  },
  {
   "cell_type": "code",
   "execution_count": null,
   "id": "ca16ef53",
   "metadata": {},
   "outputs": [],
   "source": [
    "df.tail()"
   ]
  },
  {
   "cell_type": "code",
   "execution_count": null,
   "id": "ca589fb8",
   "metadata": {
    "scrolled": true
   },
   "outputs": [],
   "source": [
    "df.tail(10)"
   ]
  },
  {
   "cell_type": "code",
   "execution_count": null,
   "id": "4f6045ae",
   "metadata": {
    "scrolled": true
   },
   "outputs": [],
   "source": [
    "df.columns"
   ]
  },
  {
   "cell_type": "code",
   "execution_count": null,
   "id": "15967e74",
   "metadata": {
    "scrolled": true
   },
   "outputs": [],
   "source": [
    "df['Hobbyist']"
   ]
  },
  {
   "cell_type": "code",
   "execution_count": null,
   "id": "05999f1b",
   "metadata": {},
   "outputs": [],
   "source": [
    "df['Hobbyist'].value_counts()"
   ]
  },
  {
   "cell_type": "code",
   "execution_count": null,
   "id": "f61c38d8",
   "metadata": {},
   "outputs": [],
   "source": [
    "df.loc[[0], ['Hobbyist']]"
   ]
  },
  {
   "cell_type": "code",
   "execution_count": null,
   "id": "17adc3ea",
   "metadata": {
    "scrolled": true
   },
   "outputs": [],
   "source": [
    "df.loc[0]"
   ]
  },
  {
   "cell_type": "code",
   "execution_count": null,
   "id": "a076a32b",
   "metadata": {},
   "outputs": [],
   "source": [
    "df.loc[0, 'Hobbyist']"
   ]
  },
  {
   "cell_type": "code",
   "execution_count": null,
   "id": "be2551aa",
   "metadata": {},
   "outputs": [],
   "source": [
    "df.loc[0:2, ['Hobbyist']]"
   ]
  },
  {
   "cell_type": "code",
   "execution_count": null,
   "id": "467869a5",
   "metadata": {
    "scrolled": true
   },
   "outputs": [],
   "source": [
    "df.loc[0:2, 'Hobbyist':'Employment']"
   ]
  },
  {
   "cell_type": "code",
   "execution_count": null,
   "id": "0e946cfe",
   "metadata": {},
   "outputs": [],
   "source": [
    "df = pd.read_csv('data/survey_results_public.csv', index_col='Respondent')"
   ]
  },
  {
   "cell_type": "code",
   "execution_count": null,
   "id": "9f33d9a0",
   "metadata": {
    "scrolled": true
   },
   "outputs": [],
   "source": [
    "df"
   ]
  },
  {
   "cell_type": "code",
   "execution_count": null,
   "id": "4ffffe98",
   "metadata": {},
   "outputs": [],
   "source": [
    "df.head()"
   ]
  },
  {
   "cell_type": "code",
   "execution_count": null,
   "id": "9d1b17cb",
   "metadata": {
    "scrolled": true
   },
   "outputs": [],
   "source": [
    "schema_df"
   ]
  },
  {
   "cell_type": "code",
   "execution_count": null,
   "id": "6c4da12b",
   "metadata": {},
   "outputs": [],
   "source": [
    "schema_df = pd.read_csv('data/survey_results_schema.csv', index_col='Column')"
   ]
  },
  {
   "cell_type": "code",
   "execution_count": null,
   "id": "9d8f0b9e",
   "metadata": {
    "scrolled": true
   },
   "outputs": [],
   "source": [
    "schema_df"
   ]
  },
  {
   "cell_type": "code",
   "execution_count": null,
   "id": "5ca1771f",
   "metadata": {},
   "outputs": [],
   "source": [
    "schema_df.loc['Hobbyist']"
   ]
  },
  {
   "cell_type": "code",
   "execution_count": null,
   "id": "1ed115ec",
   "metadata": {},
   "outputs": [],
   "source": [
    "schema_df.loc['SOComm']['QuestionText']"
   ]
  },
  {
   "cell_type": "code",
   "execution_count": null,
   "id": "f7e0f512",
   "metadata": {},
   "outputs": [],
   "source": [
    "schema_df.loc['SOComm', 'QuestionText']"
   ]
  },
  {
   "cell_type": "code",
   "execution_count": null,
   "id": "7c8f3395",
   "metadata": {
    "scrolled": true
   },
   "outputs": [],
   "source": [
    "schema_df.sort_index()"
   ]
  },
  {
   "cell_type": "code",
   "execution_count": null,
   "id": "35ccbca3",
   "metadata": {
    "scrolled": true
   },
   "outputs": [],
   "source": [
    "schema_df.sort_index(ascending=False)"
   ]
  },
  {
   "cell_type": "code",
   "execution_count": null,
   "id": "adda6569",
   "metadata": {
    "scrolled": true
   },
   "outputs": [],
   "source": [
    "schema_df"
   ]
  },
  {
   "cell_type": "code",
   "execution_count": null,
   "id": "5bdb0a79",
   "metadata": {},
   "outputs": [],
   "source": [
    "schema_df.sort_index(ascending=True,inplace=True)"
   ]
  },
  {
   "cell_type": "code",
   "execution_count": null,
   "id": "581bbf9b",
   "metadata": {
    "scrolled": true
   },
   "outputs": [],
   "source": [
    "schema_df"
   ]
  },
  {
   "cell_type": "code",
   "execution_count": null,
   "id": "5da278fc",
   "metadata": {},
   "outputs": [],
   "source": [
    "high_salary = (df['ConvertedComp'] > 70_000)"
   ]
  },
  {
   "cell_type": "code",
   "execution_count": null,
   "id": "4b91ab23",
   "metadata": {
    "scrolled": true
   },
   "outputs": [],
   "source": [
    "df.loc[high_salary]"
   ]
  },
  {
   "cell_type": "code",
   "execution_count": null,
   "id": "b10e83b7",
   "metadata": {},
   "outputs": [],
   "source": [
    "df.loc[high_salary, ['Country', 'LanguageWorkedWith', 'ConvertedComp']]"
   ]
  },
  {
   "cell_type": "code",
   "execution_count": null,
   "id": "ff7995ae",
   "metadata": {},
   "outputs": [],
   "source": [
    "target_countries = ['United States', 'India', 'United Kingdom', 'Germany', 'Canada']\n",
    "filt = df['Country'].isin(target_countries)\n",
    "df.loc[high_salary & filt, ['Country', 'LanguageWorkedWith', 'ConvertedComp']]"
   ]
  },
  {
   "cell_type": "code",
   "execution_count": null,
   "id": "2787e2fe",
   "metadata": {},
   "outputs": [],
   "source": [
    "lang = df['LanguageWorkedWith'].str.contains('Python', na=False)\n",
    "df.loc[high_salary & filt & lang, ['Country', 'ConvertedComp']]"
   ]
  },
  {
   "cell_type": "code",
   "execution_count": null,
   "id": "43ff6220",
   "metadata": {},
   "outputs": [],
   "source": [
    "df.rename(\n",
    "    columns={\n",
    "        'ConvertedComp': 'SalaryUSD'\n",
    "    },\n",
    "    inplace=True,\n",
    ")\n",
    "df2 = df.loc[high_salary & filt & lang, ['Country', 'SalaryUSD']]"
   ]
  },
  {
   "cell_type": "code",
   "execution_count": null,
   "id": "10508418",
   "metadata": {},
   "outputs": [],
   "source": [
    "print(df.shape)\n",
    "df['Hobbyist'] = df['Hobbyist'].map({'Yes':True, 'No': False})\n",
    "print(df.shape)\n",
    "df"
   ]
  },
  {
   "cell_type": "code",
   "execution_count": null,
   "id": "2c23631e",
   "metadata": {},
   "outputs": [],
   "source": [
    "df2.sort_values(by=['Country','SalaryUSD'], ascending=[True, False])"
   ]
  },
  {
   "cell_type": "code",
   "execution_count": null,
   "id": "e6363eb1",
   "metadata": {
    "scrolled": true
   },
   "outputs": [],
   "source": [
    "df2.nlargest(20, 'SalaryUSD')"
   ]
  },
  {
   "cell_type": "code",
   "execution_count": null,
   "id": "84510496",
   "metadata": {
    "scrolled": true
   },
   "outputs": [],
   "source": [
    "df2.nsmallest(20, 'SalaryUSD')"
   ]
  },
  {
   "cell_type": "code",
   "execution_count": null,
   "id": "2f4f4047",
   "metadata": {},
   "outputs": [],
   "source": [
    "df['SalaryUSD'].median()"
   ]
  },
  {
   "cell_type": "code",
   "execution_count": null,
   "id": "b3843594",
   "metadata": {},
   "outputs": [],
   "source": [
    "df['SalaryUSD'].mean()"
   ]
  },
  {
   "cell_type": "code",
   "execution_count": null,
   "id": "bb8b12b2",
   "metadata": {},
   "outputs": [],
   "source": [
    "df.median()"
   ]
  },
  {
   "cell_type": "code",
   "execution_count": null,
   "id": "5208f250",
   "metadata": {},
   "outputs": [],
   "source": [
    "df.describe()"
   ]
  },
  {
   "cell_type": "code",
   "execution_count": null,
   "id": "13f4da61",
   "metadata": {},
   "outputs": [],
   "source": [
    "df['Hobbyist']"
   ]
  },
  {
   "cell_type": "code",
   "execution_count": null,
   "id": "b249de57",
   "metadata": {},
   "outputs": [],
   "source": [
    "df['Hobbyist'].value_counts()"
   ]
  },
  {
   "cell_type": "code",
   "execution_count": null,
   "id": "114696f6",
   "metadata": {},
   "outputs": [],
   "source": [
    "df['WebframeWorkedWith'].value_counts()"
   ]
  },
  {
   "cell_type": "code",
   "execution_count": null,
   "id": "e6ecf093",
   "metadata": {},
   "outputs": [],
   "source": [
    "df['WebframeWorkedWith'].value_counts(normalize=True)"
   ]
  },
  {
   "cell_type": "code",
   "execution_count": null,
   "id": "8fccb2a3",
   "metadata": {},
   "outputs": [],
   "source": [
    "df['Country'].value_counts()"
   ]
  },
  {
   "cell_type": "code",
   "execution_count": null,
   "id": "9ec9b3e5",
   "metadata": {},
   "outputs": [],
   "source": [
    "country_grp = df.groupby(['Country'])"
   ]
  },
  {
   "cell_type": "code",
   "execution_count": null,
   "id": "c6bbb432",
   "metadata": {
    "scrolled": true
   },
   "outputs": [],
   "source": [
    "country_grp.get_group('India')"
   ]
  },
  {
   "cell_type": "code",
   "execution_count": null,
   "id": "665c3999",
   "metadata": {
    "scrolled": true
   },
   "outputs": [],
   "source": [
    "filt = df['Country'] == 'India'\n",
    "df.loc[filt]"
   ]
  },
  {
   "cell_type": "code",
   "execution_count": null,
   "id": "08ba88a1",
   "metadata": {},
   "outputs": [],
   "source": [
    "df.loc[filt]['WebframeWorkedWith'].value_counts()"
   ]
  },
  {
   "cell_type": "code",
   "execution_count": null,
   "id": "00a5ead6",
   "metadata": {
    "scrolled": true
   },
   "outputs": [],
   "source": [
    "country_grp['WebframeWorkedWith'].value_counts()"
   ]
  },
  {
   "cell_type": "code",
   "execution_count": null,
   "id": "05a77a9c",
   "metadata": {},
   "outputs": [],
   "source": [
    "country_grp['WebframeWorkedWith'].value_counts().head(10)"
   ]
  },
  {
   "cell_type": "code",
   "execution_count": null,
   "id": "ebad7db1",
   "metadata": {},
   "outputs": [],
   "source": [
    "country_grp['WebframeWorkedWith'].value_counts(normalize=True).loc['India']"
   ]
  },
  {
   "cell_type": "code",
   "execution_count": null,
   "id": "f2b6153a",
   "metadata": {},
   "outputs": [],
   "source": [
    "country_grp['WebframeWorkedWith'].value_counts(normalize=True).loc['China']"
   ]
  },
  {
   "cell_type": "code",
   "execution_count": null,
   "id": "c5a63623",
   "metadata": {},
   "outputs": [],
   "source": [
    "country_grp['SalaryUSD'].median()"
   ]
  },
  {
   "cell_type": "code",
   "execution_count": null,
   "id": "7bea6db9",
   "metadata": {},
   "outputs": [],
   "source": [
    "country_grp['SalaryUSD'].median().loc['India']"
   ]
  },
  {
   "cell_type": "code",
   "execution_count": null,
   "id": "6484f0b0",
   "metadata": {},
   "outputs": [],
   "source": [
    "country_grp['SalaryUSD'].agg(['median', 'mean'])"
   ]
  },
  {
   "cell_type": "code",
   "execution_count": null,
   "id": "20515276",
   "metadata": {},
   "outputs": [],
   "source": [
    "country_grp['SalaryUSD'].agg(['median', 'mean']).loc['India']"
   ]
  },
  {
   "cell_type": "code",
   "execution_count": null,
   "id": "5e5d4578",
   "metadata": {},
   "outputs": [],
   "source": [
    "filt = (df['Country'] == 'India')\n",
    "df.loc[filt]['LanguageWorkedWith'].str.contains('Python').sum()"
   ]
  },
  {
   "cell_type": "code",
   "execution_count": null,
   "id": "0e029817",
   "metadata": {},
   "outputs": [],
   "source": [
    "country_grp['LanguageWorkedWith'].str.contains('Python').sum()"
   ]
  },
  {
   "cell_type": "code",
   "execution_count": null,
   "id": "e3be1b7b",
   "metadata": {},
   "outputs": [],
   "source": [
    "country_grp['LanguageWorkedWith'].apply(lambda x: x.str.contains('Python').sum())"
   ]
  },
  {
   "cell_type": "code",
   "execution_count": null,
   "id": "ab98b447",
   "metadata": {},
   "outputs": [],
   "source": [
    "country_grp['LanguageWorkedWith'].apply(lambda x: x.str.contains('Python').sum())['India']"
   ]
  },
  {
   "cell_type": "code",
   "execution_count": null,
   "id": "85670224",
   "metadata": {},
   "outputs": [],
   "source": []
  }
 ],
 "metadata": {
  "kernelspec": {
   "display_name": "Python 3",
   "language": "python",
   "name": "python3"
  },
  "language_info": {
   "codemirror_mode": {
    "name": "ipython",
    "version": 3
   },
   "file_extension": ".py",
   "mimetype": "text/x-python",
   "name": "python",
   "nbconvert_exporter": "python",
   "pygments_lexer": "ipython3",
   "version": "3.8.2"
  }
 },
 "nbformat": 4,
 "nbformat_minor": 5
}
