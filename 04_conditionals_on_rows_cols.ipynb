{
 "cells": [
  {
   "cell_type": "code",
   "execution_count": null,
   "id": "0166bd22",
   "metadata": {},
   "outputs": [],
   "source": [
    "people = {\n",
    "    \"first\" : [\"Rohnak\", \"Sheldon\", \"Leonard\", \"Penny\"],\n",
    "    \"last\" : [\"Agarwal\", \"Cooper\", \"Hofstadter\", \"Hofstadter\"],\n",
    "    \"email\" : [\"rrka79wal@gmail.com\", \"sheld0nC00per@tbbt.com\", \"nolactose@tbbt.com\", \"noscience@tbbt.com\"],\n",
    "}"
   ]
  },
  {
   "cell_type": "code",
   "execution_count": null,
   "id": "29152433",
   "metadata": {},
   "outputs": [],
   "source": [
    "import pandas as pd"
   ]
  },
  {
   "cell_type": "code",
   "execution_count": null,
   "id": "0e58c847",
   "metadata": {},
   "outputs": [],
   "source": [
    "df = pd.DataFrame(people)"
   ]
  },
  {
   "cell_type": "code",
   "execution_count": null,
   "id": "6c43621a",
   "metadata": {},
   "outputs": [],
   "source": [
    "df"
   ]
  },
  {
   "cell_type": "code",
   "execution_count": null,
   "id": "673cb400",
   "metadata": {},
   "outputs": [],
   "source": [
    "df['last'] == 'Hofstadter'"
   ]
  },
  {
   "cell_type": "code",
   "execution_count": null,
   "id": "a3fc27d7",
   "metadata": {},
   "outputs": [],
   "source": [
    "filt = df['last'] == 'Hofstadter' # filter is in built object in python"
   ]
  },
  {
   "cell_type": "code",
   "execution_count": null,
   "id": "e6428750",
   "metadata": {},
   "outputs": [],
   "source": [
    "filt"
   ]
  },
  {
   "cell_type": "code",
   "execution_count": null,
   "id": "9569a131",
   "metadata": {},
   "outputs": [],
   "source": [
    "filt = (df['last'] == 'Hofstadter')"
   ]
  },
  {
   "cell_type": "code",
   "execution_count": null,
   "id": "8b2c7361",
   "metadata": {},
   "outputs": [],
   "source": [
    "filt"
   ]
  },
  {
   "cell_type": "code",
   "execution_count": null,
   "id": "a433fcee",
   "metadata": {},
   "outputs": [],
   "source": [
    "df[filt]"
   ]
  },
  {
   "cell_type": "code",
   "execution_count": null,
   "id": "907ff6dc",
   "metadata": {},
   "outputs": [],
   "source": [
    "df[df['last'] == 'Agarwal']"
   ]
  },
  {
   "cell_type": "code",
   "execution_count": null,
   "id": "c6126d95",
   "metadata": {},
   "outputs": [],
   "source": [
    "df.loc[filt]"
   ]
  },
  {
   "cell_type": "code",
   "execution_count": null,
   "id": "08abfc88",
   "metadata": {},
   "outputs": [],
   "source": [
    "df.loc[filt, 'email']"
   ]
  },
  {
   "cell_type": "code",
   "execution_count": null,
   "id": "a1e94241",
   "metadata": {},
   "outputs": [],
   "source": [
    "filt = (df['last'] == 'Hofstadter') & (df['first'] == 'Penny')"
   ]
  },
  {
   "cell_type": "code",
   "execution_count": null,
   "id": "a30a3db9",
   "metadata": {},
   "outputs": [],
   "source": [
    "df.loc[filt]"
   ]
  },
  {
   "cell_type": "code",
   "execution_count": null,
   "id": "c2055098",
   "metadata": {},
   "outputs": [],
   "source": [
    "filt = (df['last'] == 'Hofstadter') | (df['first'] == 'Rohnak')\n",
    "df.loc[filt]"
   ]
  },
  {
   "cell_type": "code",
   "execution_count": null,
   "id": "a8f07a3a",
   "metadata": {},
   "outputs": [],
   "source": [
    "df.loc[~filt]"
   ]
  },
  {
   "cell_type": "code",
   "execution_count": null,
   "id": "4700892a",
   "metadata": {},
   "outputs": [],
   "source": [
    "filt = df['email'].str.contains(\"tbbt.com\")\n",
    "df.loc[filt]"
   ]
  },
  {
   "cell_type": "code",
   "execution_count": null,
   "id": "0eac616b",
   "metadata": {},
   "outputs": [],
   "source": []
  }
 ],
 "metadata": {
  "kernelspec": {
   "display_name": "Python 3",
   "language": "python",
   "name": "python3"
  },
  "language_info": {
   "codemirror_mode": {
    "name": "ipython",
    "version": 3
   },
   "file_extension": ".py",
   "mimetype": "text/x-python",
   "name": "python",
   "nbconvert_exporter": "python",
   "pygments_lexer": "ipython3",
   "version": "3.8.2"
  }
 },
 "nbformat": 4,
 "nbformat_minor": 5
}
