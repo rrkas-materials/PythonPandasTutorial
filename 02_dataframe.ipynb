{
 "cells": [
  {
   "cell_type": "code",
   "execution_count": null,
   "id": "c1bbad16",
   "metadata": {},
   "outputs": [],
   "source": [
    "person = {\n",
    "    \"first\" : \"Rohnak\",\n",
    "    \"last\" : \"Agarwal\",\n",
    "    \"email\" : \"rrka79wal@gmail.com\",\n",
    "}"
   ]
  },
  {
   "cell_type": "code",
   "execution_count": null,
   "id": "36ac6312",
   "metadata": {},
   "outputs": [],
   "source": [
    "people = {\n",
    "    \"first\" : [\"Rohnak\"],\n",
    "    \"last\" : [\"Agarwal\"],\n",
    "    \"email\" : [\"rrka79wal@gmail.com\"],\n",
    "}"
   ]
  },
  {
   "cell_type": "code",
   "execution_count": null,
   "id": "b1d27ed3",
   "metadata": {},
   "outputs": [],
   "source": [
    "people = {\n",
    "    \"first\" : [\"Rohnak\", \"Sheldon\", \"Leonard\"],\n",
    "    \"last\" : [\"Agarwal\", \"Cooper\", \"Hofstadter\"],\n",
    "    \"email\" : [\"rrka79wal@gmail.com\", \"sheld0nC00per@tbbt.com\", \"nolactose@tbbt.com\"],\n",
    "}"
   ]
  },
  {
   "cell_type": "code",
   "execution_count": null,
   "id": "608135fb",
   "metadata": {},
   "outputs": [],
   "source": [
    "people[\"email\"]"
   ]
  },
  {
   "cell_type": "code",
   "execution_count": null,
   "id": "86d1b130",
   "metadata": {},
   "outputs": [],
   "source": [
    "import pandas as pd"
   ]
  },
  {
   "cell_type": "code",
   "execution_count": null,
   "id": "459de872",
   "metadata": {},
   "outputs": [],
   "source": [
    "df = pd.DataFrame(people)"
   ]
  },
  {
   "cell_type": "code",
   "execution_count": null,
   "id": "92b87fef",
   "metadata": {},
   "outputs": [],
   "source": [
    "df"
   ]
  },
  {
   "cell_type": "code",
   "execution_count": null,
   "id": "3b6dd96f",
   "metadata": {},
   "outputs": [],
   "source": [
    "df[\"email\"]"
   ]
  },
  {
   "cell_type": "code",
   "execution_count": null,
   "id": "edf438f6",
   "metadata": {},
   "outputs": [],
   "source": [
    "type(df[\"email\"])"
   ]
  },
  {
   "cell_type": "code",
   "execution_count": null,
   "id": "da2cae7f",
   "metadata": {
    "scrolled": true
   },
   "outputs": [],
   "source": [
    "df[\"email\"][0]"
   ]
  },
  {
   "cell_type": "code",
   "execution_count": null,
   "id": "4f37d3cc",
   "metadata": {},
   "outputs": [],
   "source": [
    "df.email"
   ]
  },
  {
   "cell_type": "code",
   "execution_count": null,
   "id": "52907e7c",
   "metadata": {},
   "outputs": [],
   "source": [
    "df.email[0]"
   ]
  },
  {
   "cell_type": "code",
   "execution_count": null,
   "id": "72385f02",
   "metadata": {},
   "outputs": [],
   "source": [
    "df[['first', 'email']]"
   ]
  },
  {
   "cell_type": "code",
   "execution_count": null,
   "id": "77969513",
   "metadata": {},
   "outputs": [],
   "source": [
    "df.columns"
   ]
  },
  {
   "cell_type": "code",
   "execution_count": null,
   "id": "e70be9c4",
   "metadata": {},
   "outputs": [],
   "source": [
    "# get rows by integer location\n",
    "df.iloc"
   ]
  },
  {
   "cell_type": "code",
   "execution_count": null,
   "id": "f8ab6c62",
   "metadata": {},
   "outputs": [],
   "source": [
    "df.iloc[0]"
   ]
  },
  {
   "cell_type": "code",
   "execution_count": null,
   "id": "9981b589",
   "metadata": {},
   "outputs": [],
   "source": [
    "df.iloc[[0, 2]]"
   ]
  },
  {
   "cell_type": "code",
   "execution_count": null,
   "id": "f8c838b3",
   "metadata": {},
   "outputs": [],
   "source": [
    "df.iloc[[0,2], [2]]"
   ]
  },
  {
   "cell_type": "code",
   "execution_count": null,
   "id": "de650311",
   "metadata": {},
   "outputs": [],
   "source": [
    "df.iloc[[0,2], 2]"
   ]
  },
  {
   "cell_type": "code",
   "execution_count": null,
   "id": "cd33af33",
   "metadata": {},
   "outputs": [],
   "source": [
    "df.iloc[[0,2], [2, 0]]"
   ]
  },
  {
   "cell_type": "code",
   "execution_count": null,
   "id": "c48abb08",
   "metadata": {},
   "outputs": [],
   "source": [
    "df.loc[0]"
   ]
  },
  {
   "cell_type": "code",
   "execution_count": null,
   "id": "6d592174",
   "metadata": {},
   "outputs": [],
   "source": [
    "df.loc[[1,0]]"
   ]
  },
  {
   "cell_type": "code",
   "execution_count": null,
   "id": "873da1d9",
   "metadata": {},
   "outputs": [],
   "source": [
    "df.loc[[0,1], ['last']]"
   ]
  },
  {
   "cell_type": "code",
   "execution_count": null,
   "id": "6dd88b53",
   "metadata": {},
   "outputs": [],
   "source": [
    "df.loc[[0,1], ['last', 'email']]"
   ]
  },
  {
   "cell_type": "code",
   "execution_count": null,
   "id": "762837fc",
   "metadata": {},
   "outputs": [],
   "source": [
    "df.loc[1:, ['last', 'email']]"
   ]
  },
  {
   "cell_type": "code",
   "execution_count": null,
   "id": "296dbb76",
   "metadata": {},
   "outputs": [],
   "source": []
  }
 ],
 "metadata": {
  "kernelspec": {
   "display_name": "Python 3",
   "language": "python",
   "name": "python3"
  },
  "language_info": {
   "codemirror_mode": {
    "name": "ipython",
    "version": 3
   },
   "file_extension": ".py",
   "mimetype": "text/x-python",
   "name": "python",
   "nbconvert_exporter": "python",
   "pygments_lexer": "ipython3",
   "version": "3.8.2"
  }
 },
 "nbformat": 4,
 "nbformat_minor": 5
}
