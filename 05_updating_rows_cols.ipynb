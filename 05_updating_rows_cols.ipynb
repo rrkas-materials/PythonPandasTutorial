{
 "cells": [
  {
   "cell_type": "code",
   "execution_count": null,
   "id": "3925e73e",
   "metadata": {},
   "outputs": [],
   "source": [
    "people = {\n",
    "    \"first\" : [\"Rohnak\", \"Sheldon\", \"Leonard\", \"Penny\"],\n",
    "    \"last\" : [\"Agarwal\", \"Cooper\", \"Hofstadter\", \"Hofstadter\"],\n",
    "    \"email\" : [\"rrka79wal@gmail.com\", \"sheld0nC00per@tbbt.com\", \"nolactose@tbbt.com\", \"noscience@tbbt.com\"],\n",
    "}\n",
    "import pandas as pd\n",
    "df = pd.DataFrame(people)\n",
    "df"
   ]
  },
  {
   "cell_type": "code",
   "execution_count": null,
   "id": "5754fc81",
   "metadata": {},
   "outputs": [],
   "source": [
    "df.columns"
   ]
  },
  {
   "cell_type": "code",
   "execution_count": null,
   "id": "c8fe548d",
   "metadata": {},
   "outputs": [],
   "source": [
    "df.columns = ['First Name', 'Last Name', 'email']\n",
    "df"
   ]
  },
  {
   "cell_type": "code",
   "execution_count": null,
   "id": "c8ca3638",
   "metadata": {},
   "outputs": [],
   "source": [
    "df.columns = [x.lower() for x in df.columns]\n",
    "df"
   ]
  },
  {
   "cell_type": "code",
   "execution_count": null,
   "id": "939ee654",
   "metadata": {},
   "outputs": [],
   "source": [
    "df.columns = df.columns.str.replace(' ', '_')\n",
    "df"
   ]
  },
  {
   "cell_type": "code",
   "execution_count": null,
   "id": "3bdef2f0",
   "metadata": {},
   "outputs": [],
   "source": [
    "df.rename(\n",
    "    columns = {\n",
    "        'first_name': 'f_name',\n",
    "        'last_name': 'l_name',\n",
    "    }\n",
    ")"
   ]
  },
  {
   "cell_type": "code",
   "execution_count": null,
   "id": "35b5130a",
   "metadata": {},
   "outputs": [],
   "source": [
    "df"
   ]
  },
  {
   "cell_type": "code",
   "execution_count": null,
   "id": "7dc45887",
   "metadata": {},
   "outputs": [],
   "source": [
    "df.rename(\n",
    "    columns = {\n",
    "        'first_name': 'f_name',\n",
    "        'last_name': 'l_name',\n",
    "    },\n",
    "    inplace=True,\n",
    ")\n",
    "df"
   ]
  },
  {
   "cell_type": "code",
   "execution_count": null,
   "id": "ffc1d939",
   "metadata": {},
   "outputs": [],
   "source": [
    "df.loc[2]"
   ]
  },
  {
   "cell_type": "code",
   "execution_count": null,
   "id": "db5228da",
   "metadata": {},
   "outputs": [],
   "source": [
    "df.loc[2] = ['Leonard', 'Hofstadter', 'liftblaster@tbbt.com']"
   ]
  },
  {
   "cell_type": "code",
   "execution_count": null,
   "id": "33c37afc",
   "metadata": {},
   "outputs": [],
   "source": [
    "df"
   ]
  },
  {
   "cell_type": "code",
   "execution_count": null,
   "id": "37943d78",
   "metadata": {},
   "outputs": [],
   "source": [
    "df.loc[1, ['f_name', 'l_name']] = ['Sheldon2', 'Cooper2']\n",
    "df"
   ]
  },
  {
   "cell_type": "code",
   "execution_count": null,
   "id": "7ec377a3",
   "metadata": {},
   "outputs": [],
   "source": [
    "df.loc[3, 'email'] = 'beingnormal@tbbt.com'\n",
    "df"
   ]
  },
  {
   "cell_type": "code",
   "execution_count": null,
   "id": "777aadea",
   "metadata": {},
   "outputs": [],
   "source": [
    "df.at[3, 'email'] = 'noscience@tbbt.com'\n",
    "df"
   ]
  },
  {
   "cell_type": "code",
   "execution_count": null,
   "id": "4f42687a",
   "metadata": {},
   "outputs": [],
   "source": [
    "filt = (df['email'] == 'liftblaster@tbbt.com')\n",
    "df[filt]['email'] = 'liftblasters@tbbt.com'"
   ]
  },
  {
   "cell_type": "code",
   "execution_count": null,
   "id": "9df83b4a",
   "metadata": {},
   "outputs": [],
   "source": [
    "df"
   ]
  },
  {
   "cell_type": "code",
   "execution_count": null,
   "id": "76ca4c4d",
   "metadata": {},
   "outputs": [],
   "source": [
    "filt = (df['email'] == 'liftblaster@tbbt.com')\n",
    "df.loc[filt, 'email'] = 'liftblasters@tbbt.com'\n",
    "df"
   ]
  },
  {
   "cell_type": "code",
   "execution_count": null,
   "id": "54c317cc",
   "metadata": {},
   "outputs": [],
   "source": [
    "df['email'] = df['email'].str.lower()\n",
    "df"
   ]
  },
  {
   "cell_type": "code",
   "execution_count": null,
   "id": "8ba064d6",
   "metadata": {},
   "outputs": [],
   "source": [
    "# 4 confusing methods:\n",
    "#     apply      : used for calling a function on values, works on a dataframe or series\n",
    "#     map        : \n",
    "#     applymap   : \n",
    "#     replace    : "
   ]
  },
  {
   "cell_type": "code",
   "execution_count": null,
   "id": "0885064e",
   "metadata": {},
   "outputs": [],
   "source": [
    "#apply\n",
    "df['email'].apply(len)"
   ]
  },
  {
   "cell_type": "code",
   "execution_count": null,
   "id": "e13356e8",
   "metadata": {},
   "outputs": [],
   "source": [
    "def update_email(email):\n",
    "    return email.upper()\n",
    "\n",
    "df['email'].apply(update_email)"
   ]
  },
  {
   "cell_type": "code",
   "execution_count": null,
   "id": "69dfee8e",
   "metadata": {},
   "outputs": [],
   "source": [
    "df['email'] = df['email'].apply(update_email)\n",
    "df"
   ]
  },
  {
   "cell_type": "code",
   "execution_count": null,
   "id": "5b3dc4d3",
   "metadata": {},
   "outputs": [],
   "source": [
    "df['email'] = df['email'].apply(lambda mail: mail.lower())\n",
    "df"
   ]
  },
  {
   "cell_type": "code",
   "execution_count": null,
   "id": "f049e22a",
   "metadata": {},
   "outputs": [],
   "source": [
    "df.apply(len)"
   ]
  },
  {
   "cell_type": "code",
   "execution_count": null,
   "id": "a0514831",
   "metadata": {},
   "outputs": [],
   "source": [
    "df.apply(len, axis='columns')"
   ]
  },
  {
   "cell_type": "code",
   "execution_count": null,
   "id": "8bd4c2e3",
   "metadata": {},
   "outputs": [],
   "source": [
    "df.apply(pd.Series.min)"
   ]
  },
  {
   "cell_type": "code",
   "execution_count": null,
   "id": "47492208",
   "metadata": {},
   "outputs": [],
   "source": [
    "df.apply(pd.Series.min, axis='columns')"
   ]
  },
  {
   "cell_type": "code",
   "execution_count": null,
   "id": "89ff9d2e",
   "metadata": {},
   "outputs": [],
   "source": [
    "df.apply(lambda x: x.min())"
   ]
  },
  {
   "cell_type": "code",
   "execution_count": null,
   "id": "f10fe9bc",
   "metadata": {},
   "outputs": [],
   "source": [
    "df.applymap(len)"
   ]
  },
  {
   "cell_type": "code",
   "execution_count": null,
   "id": "eed8ce52",
   "metadata": {},
   "outputs": [],
   "source": [
    "df.applymap(str.lower)"
   ]
  },
  {
   "cell_type": "code",
   "execution_count": null,
   "id": "4b6f8430",
   "metadata": {},
   "outputs": [],
   "source": [
    "df['f_name'].map(\n",
    "    {\n",
    "        'Rohnak': 'R',\n",
    "        'Sheldon2': 'S',\n",
    "    }\n",
    ")"
   ]
  },
  {
   "cell_type": "code",
   "execution_count": null,
   "id": "84db74bd",
   "metadata": {},
   "outputs": [],
   "source": [
    "df['f_name'].replace(\n",
    "    {\n",
    "        'Rohnak': 'R',\n",
    "        'Sheldon2': 'S',\n",
    "    }\n",
    ")"
   ]
  },
  {
   "cell_type": "code",
   "execution_count": null,
   "id": "852f9711",
   "metadata": {},
   "outputs": [],
   "source": [
    "df"
   ]
  },
  {
   "cell_type": "code",
   "execution_count": null,
   "id": "e6b8bfa2",
   "metadata": {},
   "outputs": [],
   "source": []
  }
 ],
 "metadata": {
  "kernelspec": {
   "display_name": "Python 3",
   "language": "python",
   "name": "python3"
  },
  "language_info": {
   "codemirror_mode": {
    "name": "ipython",
    "version": 3
   },
   "file_extension": ".py",
   "mimetype": "text/x-python",
   "name": "python",
   "nbconvert_exporter": "python",
   "pygments_lexer": "ipython3",
   "version": "3.8.2"
  }
 },
 "nbformat": 4,
 "nbformat_minor": 5
}
