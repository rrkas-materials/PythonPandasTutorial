{
 "cells": [
  {
   "cell_type": "code",
   "execution_count": null,
   "id": "d617206a",
   "metadata": {},
   "outputs": [],
   "source": [
    "people = {\n",
    "    \"first\" : [\"Rohnak\", \"Sheldon\", \"Leonard\", \"Penny\"],\n",
    "    \"last\" : [\"Agarwal\", \"Cooper\", \"Hofstadter\", \"Hofstadter\"],\n",
    "    \"email\" : [\"rrka79wal@gmail.com\", \"sheld0nC00per@tbbt.com\", \"nolactose@tbbt.com\", \"noscience@tbbt.com\"],\n",
    "}\n",
    "import pandas as pd\n",
    "df = pd.DataFrame(people)\n",
    "df"
   ]
  },
  {
   "cell_type": "code",
   "execution_count": null,
   "id": "276595ef",
   "metadata": {},
   "outputs": [],
   "source": [
    "df.sort_values(by='first')"
   ]
  },
  {
   "cell_type": "code",
   "execution_count": null,
   "id": "70fff03d",
   "metadata": {},
   "outputs": [],
   "source": [
    "df.sort_values(by='first', ascending=False)"
   ]
  },
  {
   "cell_type": "code",
   "execution_count": null,
   "id": "fca4b677",
   "metadata": {},
   "outputs": [],
   "source": [
    "df.sort_values(by=['last' ,'first'], ascending=False)"
   ]
  },
  {
   "cell_type": "code",
   "execution_count": null,
   "id": "47b9616d",
   "metadata": {},
   "outputs": [],
   "source": [
    "df.sort_values(by=['last' ,'first'], ascending=[False, True])"
   ]
  },
  {
   "cell_type": "code",
   "execution_count": null,
   "id": "dffc85dc",
   "metadata": {},
   "outputs": [],
   "source": [
    "df"
   ]
  },
  {
   "cell_type": "code",
   "execution_count": null,
   "id": "13c2c9bd",
   "metadata": {},
   "outputs": [],
   "source": [
    "df.sort_values(by=['last' ,'first'], ascending=[False, True], inplace=True)\n",
    "df"
   ]
  },
  {
   "cell_type": "code",
   "execution_count": null,
   "id": "6c4a72bd",
   "metadata": {},
   "outputs": [],
   "source": [
    "df.sort_index(inplace=True)"
   ]
  },
  {
   "cell_type": "code",
   "execution_count": null,
   "id": "1b2dd792",
   "metadata": {},
   "outputs": [],
   "source": [
    "df"
   ]
  },
  {
   "cell_type": "code",
   "execution_count": null,
   "id": "24a4b0d5",
   "metadata": {},
   "outputs": [],
   "source": [
    "df['email'].sort_values()"
   ]
  },
  {
   "cell_type": "code",
   "execution_count": null,
   "id": "e2f7d41d",
   "metadata": {},
   "outputs": [],
   "source": []
  }
 ],
 "metadata": {
  "kernelspec": {
   "display_name": "Python 3",
   "language": "python",
   "name": "python3"
  },
  "language_info": {
   "codemirror_mode": {
    "name": "ipython",
    "version": 3
   },
   "file_extension": ".py",
   "mimetype": "text/x-python",
   "name": "python",
   "nbconvert_exporter": "python",
   "pygments_lexer": "ipython3",
   "version": "3.8.2"
  }
 },
 "nbformat": 4,
 "nbformat_minor": 5
}
