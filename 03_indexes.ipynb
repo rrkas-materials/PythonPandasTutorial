{
 "cells": [
  {
   "cell_type": "code",
   "execution_count": null,
   "id": "cfcd9d48",
   "metadata": {},
   "outputs": [],
   "source": [
    "people = {\n",
    "    \"first\" : [\"Rohnak\", \"Sheldon\", \"Leonard\"],\n",
    "    \"last\" : [\"Agarwal\", \"Cooper\", \"Hofstadter\"],\n",
    "    \"email\" : [\"rrka79wal@gmail.com\", \"sheld0nC00per@tbbt.com\", \"nolactose@tbbt.com\"],\n",
    "}"
   ]
  },
  {
   "cell_type": "code",
   "execution_count": null,
   "id": "4a6297b4",
   "metadata": {},
   "outputs": [],
   "source": [
    "import pandas as pd"
   ]
  },
  {
   "cell_type": "code",
   "execution_count": null,
   "id": "1cb3eb8b",
   "metadata": {},
   "outputs": [],
   "source": [
    "df = pd.DataFrame(people)"
   ]
  },
  {
   "cell_type": "code",
   "execution_count": null,
   "id": "6be8df97",
   "metadata": {},
   "outputs": [],
   "source": [
    "df"
   ]
  },
  {
   "cell_type": "code",
   "execution_count": null,
   "id": "ce6e618b",
   "metadata": {},
   "outputs": [],
   "source": [
    "df['email']"
   ]
  },
  {
   "cell_type": "code",
   "execution_count": null,
   "id": "0ed213fd",
   "metadata": {},
   "outputs": [],
   "source": [
    "df.set_index('email')"
   ]
  },
  {
   "cell_type": "code",
   "execution_count": null,
   "id": "c715bec5",
   "metadata": {},
   "outputs": [],
   "source": [
    "df"
   ]
  },
  {
   "cell_type": "code",
   "execution_count": null,
   "id": "3594b501",
   "metadata": {},
   "outputs": [],
   "source": [
    "df.set_index('email', inplace=True)"
   ]
  },
  {
   "cell_type": "code",
   "execution_count": null,
   "id": "5000ef02",
   "metadata": {},
   "outputs": [],
   "source": [
    "df"
   ]
  },
  {
   "cell_type": "code",
   "execution_count": null,
   "id": "3a1e4099",
   "metadata": {},
   "outputs": [],
   "source": [
    "df.index"
   ]
  },
  {
   "cell_type": "code",
   "execution_count": null,
   "id": "3ead3c93",
   "metadata": {},
   "outputs": [],
   "source": [
    "df.loc['rrka79wal@gmail.com']"
   ]
  },
  {
   "cell_type": "code",
   "execution_count": null,
   "id": "de1c3adb",
   "metadata": {},
   "outputs": [],
   "source": [
    "df.loc['rrka79wal@gmail.com']['last']"
   ]
  },
  {
   "cell_type": "code",
   "execution_count": null,
   "id": "e70f46c2",
   "metadata": {},
   "outputs": [],
   "source": [
    "df.loc[0]"
   ]
  },
  {
   "cell_type": "code",
   "execution_count": null,
   "id": "f4715b32",
   "metadata": {},
   "outputs": [],
   "source": [
    "df.iloc[0]"
   ]
  },
  {
   "cell_type": "code",
   "execution_count": null,
   "id": "afdda9ca",
   "metadata": {},
   "outputs": [],
   "source": [
    "df.reset_index(inplace=True)"
   ]
  },
  {
   "cell_type": "code",
   "execution_count": null,
   "id": "4f3cd587",
   "metadata": {},
   "outputs": [],
   "source": [
    "df"
   ]
  },
  {
   "cell_type": "code",
   "execution_count": null,
   "id": "5ac882ae",
   "metadata": {},
   "outputs": [],
   "source": [
    "df.head()"
   ]
  },
  {
   "cell_type": "code",
   "execution_count": null,
   "id": "4510a6d2",
   "metadata": {},
   "outputs": [],
   "source": []
  }
 ],
 "metadata": {
  "kernelspec": {
   "display_name": "Python 3",
   "language": "python",
   "name": "python3"
  },
  "language_info": {
   "codemirror_mode": {
    "name": "ipython",
    "version": 3
   },
   "file_extension": ".py",
   "mimetype": "text/x-python",
   "name": "python",
   "nbconvert_exporter": "python",
   "pygments_lexer": "ipython3",
   "version": "3.8.2"
  }
 },
 "nbformat": 4,
 "nbformat_minor": 5
}
